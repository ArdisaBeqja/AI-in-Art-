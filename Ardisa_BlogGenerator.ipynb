{
  "nbformat": 4,
  "nbformat_minor": 0,
  "metadata": {
    "colab": {
      "provenance": [],
      "include_colab_link": true
    },
    "kernelspec": {
      "name": "python3",
      "display_name": "Python 3"
    },
    "language_info": {
      "name": "python"
    }
  },
  "cells": [
    {
      "cell_type": "markdown",
      "metadata": {
        "id": "view-in-github",
        "colab_type": "text"
      },
      "source": [
        "<a href=\"https://colab.research.google.com/github/ArdisaBeqja/AI-in-Art-/blob/main/Ardisa_BlogGenerator.ipynb\" target=\"_parent\"><img src=\"https://colab.research.google.com/assets/colab-badge.svg\" alt=\"Open In Colab\"/></a>"
      ]
    },
    {
      "cell_type": "markdown",
      "metadata": {
        "id": "r1b3wQ1e6oJY"
      },
      "source": [
        "#**Install & Import Packages**"
      ]
    },
    {
      "cell_type": "code",
      "metadata": {
        "id": "SrusYVc56rmk",
        "colab": {
          "base_uri": "https://localhost:8080/"
        },
        "outputId": "e836346b-70de-49ca-f615-82038043feb7"
      },
      "source": [
        "!pip install transformers"
      ],
      "execution_count": 8,
      "outputs": [
        {
          "output_type": "stream",
          "name": "stdout",
          "text": [
            "Requirement already satisfied: transformers in /usr/local/lib/python3.10/dist-packages (4.46.2)\n",
            "Requirement already satisfied: filelock in /usr/local/lib/python3.10/dist-packages (from transformers) (3.16.1)\n",
            "Requirement already satisfied: huggingface-hub<1.0,>=0.23.2 in /usr/local/lib/python3.10/dist-packages (from transformers) (0.26.2)\n",
            "Requirement already satisfied: numpy>=1.17 in /usr/local/lib/python3.10/dist-packages (from transformers) (1.26.4)\n",
            "Requirement already satisfied: packaging>=20.0 in /usr/local/lib/python3.10/dist-packages (from transformers) (24.2)\n",
            "Requirement already satisfied: pyyaml>=5.1 in /usr/local/lib/python3.10/dist-packages (from transformers) (6.0.2)\n",
            "Requirement already satisfied: regex!=2019.12.17 in /usr/local/lib/python3.10/dist-packages (from transformers) (2024.9.11)\n",
            "Requirement already satisfied: requests in /usr/local/lib/python3.10/dist-packages (from transformers) (2.32.3)\n",
            "Requirement already satisfied: safetensors>=0.4.1 in /usr/local/lib/python3.10/dist-packages (from transformers) (0.4.5)\n",
            "Requirement already satisfied: tokenizers<0.21,>=0.20 in /usr/local/lib/python3.10/dist-packages (from transformers) (0.20.3)\n",
            "Requirement already satisfied: tqdm>=4.27 in /usr/local/lib/python3.10/dist-packages (from transformers) (4.66.6)\n",
            "Requirement already satisfied: fsspec>=2023.5.0 in /usr/local/lib/python3.10/dist-packages (from huggingface-hub<1.0,>=0.23.2->transformers) (2024.10.0)\n",
            "Requirement already satisfied: typing-extensions>=3.7.4.3 in /usr/local/lib/python3.10/dist-packages (from huggingface-hub<1.0,>=0.23.2->transformers) (4.12.2)\n",
            "Requirement already satisfied: charset-normalizer<4,>=2 in /usr/local/lib/python3.10/dist-packages (from requests->transformers) (3.4.0)\n",
            "Requirement already satisfied: idna<4,>=2.5 in /usr/local/lib/python3.10/dist-packages (from requests->transformers) (3.10)\n",
            "Requirement already satisfied: urllib3<3,>=1.21.1 in /usr/local/lib/python3.10/dist-packages (from requests->transformers) (2.2.3)\n",
            "Requirement already satisfied: certifi>=2017.4.17 in /usr/local/lib/python3.10/dist-packages (from requests->transformers) (2024.8.30)\n"
          ]
        }
      ]
    },
    {
      "cell_type": "code",
      "metadata": {
        "id": "o6mR9iWW6sd8"
      },
      "source": [
        "import tensorflow as tf\n",
        "from transformers import GPT2LMHeadModel, GPT2Tokenizer"
      ],
      "execution_count": 9,
      "outputs": []
    },
    {
      "cell_type": "markdown",
      "metadata": {
        "id": "li2caMM56wMR"
      },
      "source": [
        "#**Getting our Tokenizer & Model**"
      ]
    },
    {
      "cell_type": "code",
      "metadata": {
        "id": "WcCr7gDW63TH"
      },
      "source": [
        "tokenizer=GPT2Tokenizer.from_pretrained(\"gpt2-large\")\n",
        "model=GPT2LMHeadModel.from_pretrained(\"gpt2-large\", pad_token_id=tokenizer.eos_token_id)"
      ],
      "execution_count": 10,
      "outputs": []
    },
    {
      "cell_type": "markdown",
      "source": [],
      "metadata": {
        "id": "3v1r5xQ8ekhH"
      }
    },
    {
      "cell_type": "markdown",
      "metadata": {
        "id": "cGRtFOO-63q4"
      },
      "source": [
        "#**Tokenize**"
      ]
    },
    {
      "cell_type": "code",
      "metadata": {
        "id": "dNUHslTF698H"
      },
      "source": [
        "blog_title=\"what can i do ?\"\n",
        "\n",
        "input = tokenizer.encode(blog_title, return_tensors=\"pt\")"
      ],
      "execution_count": 11,
      "outputs": []
    },
    {
      "cell_type": "code",
      "metadata": {
        "id": "xIj_q2nR9SMV",
        "colab": {
          "base_uri": "https://localhost:8080/"
        },
        "outputId": "a0e82312-7e24-4bd7-c67e-4412d650e059"
      },
      "source": [
        "input"
      ],
      "execution_count": 12,
      "outputs": [
        {
          "output_type": "execute_result",
          "data": {
            "text/plain": [
              "tensor([[10919,   460,  1312,   466,  5633]])"
            ]
          },
          "metadata": {},
          "execution_count": 12
        }
      ]
    },
    {
      "cell_type": "markdown",
      "metadata": {
        "id": "dcBAJ_AH6_u9"
      },
      "source": [
        "#**Generate!**"
      ]
    },
    {
      "cell_type": "code",
      "metadata": {
        "id": "AD9J0YQP7Bax"
      },
      "source": [
        "output=model.generate(input, max_length=100, num_beams=5, no_repeat_ngram_size=2, early_stopping=True)"
      ],
      "execution_count": 13,
      "outputs": []
    },
    {
      "cell_type": "code",
      "metadata": {
        "id": "ShakYXuG7Det",
        "colab": {
          "base_uri": "https://localhost:8080/"
        },
        "outputId": "b06951c8-c45a-4465-9c74-4185e0cf77b8"
      },
      "source": [
        "print(tokenizer.decode(output[0], skip_special_tokens=True))"
      ],
      "execution_count": 14,
      "outputs": [
        {
          "output_type": "stream",
          "name": "stdout",
          "text": [
            "what can i do ?\"\n",
            "\n",
            "\"I don't know what you're talking about, but I'm not going to tell you what to do. If you want to talk to me about it, that's fine. But you can't tell me what I can or cannot do with my own body. That's my right as a human being, and it's the right of every other person on this planet. I have a right to my body and I will use it to the best of\n"
          ]
        }
      ]
    }
  ]
}